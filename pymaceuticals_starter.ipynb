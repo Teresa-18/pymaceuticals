{
 "cells": [
  {
   "cell_type": "markdown",
   "metadata": {},
   "source": [
    "## Observations and Insights "
   ]
  },
  {
   "cell_type": "markdown",
   "metadata": {},
   "source": []
  },
  {
   "cell_type": "markdown",
   "metadata": {},
   "source": [
    "#Look across all generated figures and tables and write at least three observations or\n",
    "#inferences that can be made from the data. Include these observations at the top of notebook.\n",
    "1. In review of the charts, I've observed that it seems that Infubinol and Ceftamin did not do well compared to Capomulin and Ramicane.\n",
    "2. Out of the four drug regimens reviewed and charted further, only Infubinol seemed to have any outliers.\n",
    "3. It does see that the tumor volume and the weight of the mouse I557 have a positive correlation.\n"
   ]
  },
  {
   "cell_type": "code",
   "execution_count": 1,
   "metadata": {},
   "outputs": [
    {
     "data": {
      "text/html": [
       "<div>\n",
       "<style scoped>\n",
       "    .dataframe tbody tr th:only-of-type {\n",
       "        vertical-align: middle;\n",
       "    }\n",
       "\n",
       "    .dataframe tbody tr th {\n",
       "        vertical-align: top;\n",
       "    }\n",
       "\n",
       "    .dataframe thead th {\n",
       "        text-align: right;\n",
       "    }\n",
       "</style>\n",
       "<table border=\"1\" class=\"dataframe\">\n",
       "  <thead>\n",
       "    <tr style=\"text-align: right;\">\n",
       "      <th></th>\n",
       "      <th>Mouse ID</th>\n",
       "      <th>Drug Regimen</th>\n",
       "      <th>Sex</th>\n",
       "      <th>Age_months</th>\n",
       "      <th>Weight (g)</th>\n",
       "      <th>Timepoint</th>\n",
       "      <th>Tumor Volume (mm3)</th>\n",
       "      <th>Metastatic Sites</th>\n",
       "    </tr>\n",
       "  </thead>\n",
       "  <tbody>\n",
       "    <tr>\n",
       "      <th>0</th>\n",
       "      <td>k403</td>\n",
       "      <td>Ramicane</td>\n",
       "      <td>Male</td>\n",
       "      <td>21</td>\n",
       "      <td>16</td>\n",
       "      <td>0</td>\n",
       "      <td>45.000000</td>\n",
       "      <td>0</td>\n",
       "    </tr>\n",
       "    <tr>\n",
       "      <th>1</th>\n",
       "      <td>k403</td>\n",
       "      <td>Ramicane</td>\n",
       "      <td>Male</td>\n",
       "      <td>21</td>\n",
       "      <td>16</td>\n",
       "      <td>5</td>\n",
       "      <td>38.825898</td>\n",
       "      <td>0</td>\n",
       "    </tr>\n",
       "    <tr>\n",
       "      <th>2</th>\n",
       "      <td>k403</td>\n",
       "      <td>Ramicane</td>\n",
       "      <td>Male</td>\n",
       "      <td>21</td>\n",
       "      <td>16</td>\n",
       "      <td>10</td>\n",
       "      <td>35.014271</td>\n",
       "      <td>1</td>\n",
       "    </tr>\n",
       "    <tr>\n",
       "      <th>3</th>\n",
       "      <td>k403</td>\n",
       "      <td>Ramicane</td>\n",
       "      <td>Male</td>\n",
       "      <td>21</td>\n",
       "      <td>16</td>\n",
       "      <td>15</td>\n",
       "      <td>34.223992</td>\n",
       "      <td>1</td>\n",
       "    </tr>\n",
       "    <tr>\n",
       "      <th>4</th>\n",
       "      <td>k403</td>\n",
       "      <td>Ramicane</td>\n",
       "      <td>Male</td>\n",
       "      <td>21</td>\n",
       "      <td>16</td>\n",
       "      <td>20</td>\n",
       "      <td>32.997729</td>\n",
       "      <td>1</td>\n",
       "    </tr>\n",
       "    <tr>\n",
       "      <th>...</th>\n",
       "      <td>...</td>\n",
       "      <td>...</td>\n",
       "      <td>...</td>\n",
       "      <td>...</td>\n",
       "      <td>...</td>\n",
       "      <td>...</td>\n",
       "      <td>...</td>\n",
       "      <td>...</td>\n",
       "    </tr>\n",
       "    <tr>\n",
       "      <th>1888</th>\n",
       "      <td>z969</td>\n",
       "      <td>Naftisol</td>\n",
       "      <td>Male</td>\n",
       "      <td>9</td>\n",
       "      <td>30</td>\n",
       "      <td>25</td>\n",
       "      <td>63.145652</td>\n",
       "      <td>2</td>\n",
       "    </tr>\n",
       "    <tr>\n",
       "      <th>1889</th>\n",
       "      <td>z969</td>\n",
       "      <td>Naftisol</td>\n",
       "      <td>Male</td>\n",
       "      <td>9</td>\n",
       "      <td>30</td>\n",
       "      <td>30</td>\n",
       "      <td>65.841013</td>\n",
       "      <td>3</td>\n",
       "    </tr>\n",
       "    <tr>\n",
       "      <th>1890</th>\n",
       "      <td>z969</td>\n",
       "      <td>Naftisol</td>\n",
       "      <td>Male</td>\n",
       "      <td>9</td>\n",
       "      <td>30</td>\n",
       "      <td>35</td>\n",
       "      <td>69.176246</td>\n",
       "      <td>4</td>\n",
       "    </tr>\n",
       "    <tr>\n",
       "      <th>1891</th>\n",
       "      <td>z969</td>\n",
       "      <td>Naftisol</td>\n",
       "      <td>Male</td>\n",
       "      <td>9</td>\n",
       "      <td>30</td>\n",
       "      <td>40</td>\n",
       "      <td>70.314904</td>\n",
       "      <td>4</td>\n",
       "    </tr>\n",
       "    <tr>\n",
       "      <th>1892</th>\n",
       "      <td>z969</td>\n",
       "      <td>Naftisol</td>\n",
       "      <td>Male</td>\n",
       "      <td>9</td>\n",
       "      <td>30</td>\n",
       "      <td>45</td>\n",
       "      <td>73.867845</td>\n",
       "      <td>4</td>\n",
       "    </tr>\n",
       "  </tbody>\n",
       "</table>\n",
       "<p>1893 rows × 8 columns</p>\n",
       "</div>"
      ],
      "text/plain": [
       "     Mouse ID Drug Regimen   Sex  Age_months  Weight (g)  Timepoint  \\\n",
       "0        k403     Ramicane  Male          21          16          0   \n",
       "1        k403     Ramicane  Male          21          16          5   \n",
       "2        k403     Ramicane  Male          21          16         10   \n",
       "3        k403     Ramicane  Male          21          16         15   \n",
       "4        k403     Ramicane  Male          21          16         20   \n",
       "...       ...          ...   ...         ...         ...        ...   \n",
       "1888     z969     Naftisol  Male           9          30         25   \n",
       "1889     z969     Naftisol  Male           9          30         30   \n",
       "1890     z969     Naftisol  Male           9          30         35   \n",
       "1891     z969     Naftisol  Male           9          30         40   \n",
       "1892     z969     Naftisol  Male           9          30         45   \n",
       "\n",
       "      Tumor Volume (mm3)  Metastatic Sites  \n",
       "0              45.000000                 0  \n",
       "1              38.825898                 0  \n",
       "2              35.014271                 1  \n",
       "3              34.223992                 1  \n",
       "4              32.997729                 1  \n",
       "...                  ...               ...  \n",
       "1888           63.145652                 2  \n",
       "1889           65.841013                 3  \n",
       "1890           69.176246                 4  \n",
       "1891           70.314904                 4  \n",
       "1892           73.867845                 4  \n",
       "\n",
       "[1893 rows x 8 columns]"
      ]
     },
     "execution_count": 1,
     "metadata": {},
     "output_type": "execute_result"
    }
   ],
   "source": [
    "# Dependencies\n",
    "import matplotlib.pyplot as plt\n",
    "import pandas as pd\n",
    "import scipy.stats as st\n",
    "import numpy as np\n",
    "from sklearn import datasets\n",
    "from scipy.stats import linregress\n",
    "\n",
    "# Study data files\n",
    "mouse_metadata_path = \"data/Mouse_metadata.csv\"\n",
    "study_results_path = \"data/Study_results.csv\"\n",
    "\n",
    "# Read the mouse data and the study results\n",
    "mouse_metadata = pd.read_csv(mouse_metadata_path)\n",
    "study_results = pd.read_csv(study_results_path)\n",
    "\n",
    "# Combine the data into a single dataset\n",
    "data_complete = pd.merge(mouse_metadata, study_results, on=[\"Mouse ID\", \"Mouse ID\"], how=\"left\")\n",
    "# Display the data table for preview\n",
    "data_complete"
   ]
  },
  {
   "cell_type": "code",
   "execution_count": 2,
   "metadata": {},
   "outputs": [],
   "source": [
    "# Checking the number of mice.\n",
    "Unique_mice_df =(data_complete[\"Mouse ID\"]).unique()\n"
   ]
  },
  {
   "cell_type": "code",
   "execution_count": 3,
   "metadata": {},
   "outputs": [],
   "source": [
    "# Getting the duplicate mice by ID number that shows up for Mouse ID and Timepoint. \n",
    "dup_mouse = data_complete.duplicated(subset=[\"Mouse ID\", \"Timepoint\"], keep='last')"
   ]
  },
  {
   "cell_type": "code",
   "execution_count": 4,
   "metadata": {},
   "outputs": [],
   "source": [
    "#Get all the data for the duplicate mouse ID. \n",
    "dup_mouse_data = data_complete[data_complete.duplicated(subset=[\"Mouse ID\",\"Timepoint\"])]"
   ]
  },
  {
   "cell_type": "code",
   "execution_count": 5,
   "metadata": {},
   "outputs": [
    {
     "name": "stdout",
     "output_type": "stream",
     "text": [
      "1888\n"
     ]
    }
   ],
   "source": [
    "# Create a clean DataFrame by dropping the duplicate mouse by its ID.\n",
    "clean_mice_df = data_complete.drop_duplicates(subset=[\"Mouse ID\", \"Timepoint\"], keep='last')\n",
    "print(len(clean_mice_df))"
   ]
  },
  {
   "cell_type": "code",
   "execution_count": 6,
   "metadata": {},
   "outputs": [],
   "source": [
    "# Checking the number of mice in the clean DataFrame.\n",
    "number_mice_df = pd.unique(clean_mice_df[\"Mouse ID\"])"
   ]
  },
  {
   "cell_type": "markdown",
   "metadata": {},
   "source": [
    "## Summary Statistics"
   ]
  },
  {
   "cell_type": "code",
   "execution_count": 7,
   "metadata": {},
   "outputs": [],
   "source": [
    "# Generate a summary statistics table of mean, median, variance, standard deviation, and SEM of the tumor volume for each regimen\n",
    "# Use groupby and summary statistical methods to calculate the following properties of each drug regimen: \n",
    "# mean, median, variance, standard deviation, and SEM of the tumor volume. \n",
    "\n",
    " #CALCULATING THE MEAN FOR TUMOR VOLUME ACROSS ALL DRUG REGIMENS\n",
    "stat_mean_byregimen = clean_mice_df.groupby([\"Drug Regimen\"]).mean()\n",
    "stat_mean_ = stat_mean_byregimen.loc[:,'Tumor Volume (mm3)']\n",
    "stat_mean_bytumor = pd.Series(stat_mean_, name=\"Mean\")\n",
    "\n",
    "  #CALCULATING THE MEDIAN FOR TUMOR VOLUME ACROSS ALL DRUG REGIMENS\n",
    "stat_median_byregimen = clean_mice_df.groupby([\"Drug Regimen\"]).median()\n",
    "median_ = stat_median_byregimen.loc[:,'Tumor Volume (mm3)']\n",
    "median_bytumor = pd.Series(median_, name=\"Median\")\n",
    "\n",
    " #CALCULATING THE VARIANCE FOR TUMOR VOLUME ACROSS ALL DRUG REGIMENS\n",
    "stat_variance_byregimen = clean_mice_df.groupby([\"Drug Regimen\"]).var()\n",
    "variance_ = stat_variance_byregimen.loc[:,'Tumor Volume (mm3)']\n",
    "variance_bytumor = pd.Series(variance_, name=\"Variance\")\n",
    "\n",
    " #CALCULATING THE STANDARD DEVIATION FOR TUMOR VOLUME ACROSS ALL DRUG REGIMENS\n",
    "stat_stddevi_byregimen = clean_mice_df.groupby([\"Drug Regimen\"]).std()\n",
    "stdDevi_ = stat_stddevi_byregimen.loc[:,'Tumor Volume (mm3)']\n",
    "stdDevi_bytumor = pd.Series(stdDevi_, name=\"Standard Deviation\")\n",
    "\n",
    " #CALCULATING THE SEM FOR TUMOR VOLUME ACROSS ALL DRUG REGIMENS\n",
    "stat_SEM_byregimen = clean_mice_df.groupby([\"Drug Regimen\"]).sem()\n",
    "stat_SEM_ = stat_SEM_byregimen.loc[:,'Tumor Volume (mm3)']\n",
    "stat_SEM_bytumor = pd.Series(stat_SEM_, name=\"SEM\")\n"
   ]
  },
  {
   "cell_type": "code",
   "execution_count": 8,
   "metadata": {},
   "outputs": [
    {
     "data": {
      "text/html": [
       "<div>\n",
       "<style scoped>\n",
       "    .dataframe tbody tr th:only-of-type {\n",
       "        vertical-align: middle;\n",
       "    }\n",
       "\n",
       "    .dataframe tbody tr th {\n",
       "        vertical-align: top;\n",
       "    }\n",
       "\n",
       "    .dataframe thead th {\n",
       "        text-align: right;\n",
       "    }\n",
       "</style>\n",
       "<table border=\"1\" class=\"dataframe\">\n",
       "  <thead>\n",
       "    <tr style=\"text-align: right;\">\n",
       "      <th></th>\n",
       "      <th>Mean</th>\n",
       "      <th>Median</th>\n",
       "      <th>Variance</th>\n",
       "      <th>Standard Deviation</th>\n",
       "      <th>SEM</th>\n",
       "    </tr>\n",
       "    <tr>\n",
       "      <th>Drug Regimen</th>\n",
       "      <th></th>\n",
       "      <th></th>\n",
       "      <th></th>\n",
       "      <th></th>\n",
       "      <th></th>\n",
       "    </tr>\n",
       "  </thead>\n",
       "  <tbody>\n",
       "    <tr>\n",
       "      <th>Capomulin</th>\n",
       "      <td>40.675741</td>\n",
       "      <td>41.557809</td>\n",
       "      <td>24.947764</td>\n",
       "      <td>4.994774</td>\n",
       "      <td>0.329346</td>\n",
       "    </tr>\n",
       "    <tr>\n",
       "      <th>Ceftamin</th>\n",
       "      <td>52.591172</td>\n",
       "      <td>51.776157</td>\n",
       "      <td>39.290177</td>\n",
       "      <td>6.268188</td>\n",
       "      <td>0.469821</td>\n",
       "    </tr>\n",
       "    <tr>\n",
       "      <th>Infubinol</th>\n",
       "      <td>52.884795</td>\n",
       "      <td>51.820584</td>\n",
       "      <td>43.128684</td>\n",
       "      <td>6.567243</td>\n",
       "      <td>0.492236</td>\n",
       "    </tr>\n",
       "    <tr>\n",
       "      <th>Ketapril</th>\n",
       "      <td>55.235638</td>\n",
       "      <td>53.698743</td>\n",
       "      <td>68.553577</td>\n",
       "      <td>8.279709</td>\n",
       "      <td>0.603860</td>\n",
       "    </tr>\n",
       "    <tr>\n",
       "      <th>Naftisol</th>\n",
       "      <td>54.331565</td>\n",
       "      <td>52.509285</td>\n",
       "      <td>66.173479</td>\n",
       "      <td>8.134708</td>\n",
       "      <td>0.596466</td>\n",
       "    </tr>\n",
       "    <tr>\n",
       "      <th>Placebo</th>\n",
       "      <td>54.033581</td>\n",
       "      <td>52.288934</td>\n",
       "      <td>61.168083</td>\n",
       "      <td>7.821003</td>\n",
       "      <td>0.581331</td>\n",
       "    </tr>\n",
       "    <tr>\n",
       "      <th>Propriva</th>\n",
       "      <td>52.382993</td>\n",
       "      <td>50.783528</td>\n",
       "      <td>43.220205</td>\n",
       "      <td>6.574208</td>\n",
       "      <td>0.526358</td>\n",
       "    </tr>\n",
       "    <tr>\n",
       "      <th>Ramicane</th>\n",
       "      <td>40.216745</td>\n",
       "      <td>40.673236</td>\n",
       "      <td>23.486704</td>\n",
       "      <td>4.846308</td>\n",
       "      <td>0.320955</td>\n",
       "    </tr>\n",
       "    <tr>\n",
       "      <th>Stelasyn</th>\n",
       "      <td>54.233149</td>\n",
       "      <td>52.431737</td>\n",
       "      <td>59.450562</td>\n",
       "      <td>7.710419</td>\n",
       "      <td>0.573111</td>\n",
       "    </tr>\n",
       "    <tr>\n",
       "      <th>Zoniferol</th>\n",
       "      <td>53.236507</td>\n",
       "      <td>51.818479</td>\n",
       "      <td>48.533355</td>\n",
       "      <td>6.966589</td>\n",
       "      <td>0.516398</td>\n",
       "    </tr>\n",
       "  </tbody>\n",
       "</table>\n",
       "</div>"
      ],
      "text/plain": [
       "                   Mean     Median   Variance  Standard Deviation       SEM\n",
       "Drug Regimen                                                               \n",
       "Capomulin     40.675741  41.557809  24.947764            4.994774  0.329346\n",
       "Ceftamin      52.591172  51.776157  39.290177            6.268188  0.469821\n",
       "Infubinol     52.884795  51.820584  43.128684            6.567243  0.492236\n",
       "Ketapril      55.235638  53.698743  68.553577            8.279709  0.603860\n",
       "Naftisol      54.331565  52.509285  66.173479            8.134708  0.596466\n",
       "Placebo       54.033581  52.288934  61.168083            7.821003  0.581331\n",
       "Propriva      52.382993  50.783528  43.220205            6.574208  0.526358\n",
       "Ramicane      40.216745  40.673236  23.486704            4.846308  0.320955\n",
       "Stelasyn      54.233149  52.431737  59.450562            7.710419  0.573111\n",
       "Zoniferol     53.236507  51.818479  48.533355            6.966589  0.516398"
      ]
     },
     "execution_count": 8,
     "metadata": {},
     "output_type": "execute_result"
    }
   ],
   "source": [
    "# Assemble the resulting series into a single summary dataframe.\n",
    "df1 = [stat_mean_bytumor, median_bytumor, variance_bytumor, stdDevi_bytumor, stat_SEM_bytumor]\n",
    "Statistical_Summary_DF = pd.concat(df1, axis=1)\n",
    "Statistical_Summary_DF"
   ]
  },
  {
   "cell_type": "code",
   "execution_count": 9,
   "metadata": {},
   "outputs": [
    {
     "name": "stdout",
     "output_type": "stream",
     "text": [
      "                   Mean     Median   Variance  Standard Deviation       SEM\n",
      "Drug Regimen                                                               \n",
      "Capomulin     40.675741  41.557809  24.947764            4.994774  0.329346\n",
      "Ceftamin      52.591172  51.776157  39.290177            6.268188  0.469821\n",
      "Infubinol     52.884795  51.820584  43.128684            6.567243  0.492236\n",
      "Ketapril      55.235638  53.698743  68.553577            8.279709  0.603860\n",
      "Naftisol      54.331565  52.509285  66.173479            8.134708  0.596466\n",
      "Placebo       54.033581  52.288934  61.168083            7.821003  0.581331\n",
      "Propriva      52.382993  50.783528  43.220205            6.574208  0.526358\n",
      "Ramicane      40.216745  40.673236  23.486704            4.846308  0.320955\n",
      "Stelasyn      54.233149  52.431737  59.450562            7.710419  0.573111\n",
      "Zoniferol     53.236507  51.818479  48.533355            6.966589  0.516398\n"
     ]
    },
    {
     "data": {
      "text/html": [
       "<div>\n",
       "<style scoped>\n",
       "    .dataframe tbody tr th:only-of-type {\n",
       "        vertical-align: middle;\n",
       "    }\n",
       "\n",
       "    .dataframe tbody tr th {\n",
       "        vertical-align: top;\n",
       "    }\n",
       "\n",
       "    .dataframe thead tr th {\n",
       "        text-align: left;\n",
       "    }\n",
       "\n",
       "    .dataframe thead tr:last-of-type th {\n",
       "        text-align: right;\n",
       "    }\n",
       "</style>\n",
       "<table border=\"1\" class=\"dataframe\">\n",
       "  <thead>\n",
       "    <tr>\n",
       "      <th></th>\n",
       "      <th colspan=\"5\" halign=\"left\">Age_months</th>\n",
       "      <th colspan=\"5\" halign=\"left\">Weight (g)</th>\n",
       "      <th>...</th>\n",
       "      <th colspan=\"5\" halign=\"left\">Tumor Volume (mm3)</th>\n",
       "      <th colspan=\"5\" halign=\"left\">Metastatic Sites</th>\n",
       "    </tr>\n",
       "    <tr>\n",
       "      <th></th>\n",
       "      <th>mean</th>\n",
       "      <th>median</th>\n",
       "      <th>var</th>\n",
       "      <th>std</th>\n",
       "      <th>sem</th>\n",
       "      <th>mean</th>\n",
       "      <th>median</th>\n",
       "      <th>var</th>\n",
       "      <th>std</th>\n",
       "      <th>sem</th>\n",
       "      <th>...</th>\n",
       "      <th>mean</th>\n",
       "      <th>median</th>\n",
       "      <th>var</th>\n",
       "      <th>std</th>\n",
       "      <th>sem</th>\n",
       "      <th>mean</th>\n",
       "      <th>median</th>\n",
       "      <th>var</th>\n",
       "      <th>std</th>\n",
       "      <th>sem</th>\n",
       "    </tr>\n",
       "    <tr>\n",
       "      <th>Drug Regimen</th>\n",
       "      <th></th>\n",
       "      <th></th>\n",
       "      <th></th>\n",
       "      <th></th>\n",
       "      <th></th>\n",
       "      <th></th>\n",
       "      <th></th>\n",
       "      <th></th>\n",
       "      <th></th>\n",
       "      <th></th>\n",
       "      <th></th>\n",
       "      <th></th>\n",
       "      <th></th>\n",
       "      <th></th>\n",
       "      <th></th>\n",
       "      <th></th>\n",
       "      <th></th>\n",
       "      <th></th>\n",
       "      <th></th>\n",
       "      <th></th>\n",
       "      <th></th>\n",
       "    </tr>\n",
       "  </thead>\n",
       "  <tbody>\n",
       "    <tr>\n",
       "      <th>Capomulin</th>\n",
       "      <td>13.456522</td>\n",
       "      <td>16.5</td>\n",
       "      <td>59.620372</td>\n",
       "      <td>7.721423</td>\n",
       "      <td>0.509136</td>\n",
       "      <td>19.965217</td>\n",
       "      <td>20.5</td>\n",
       "      <td>7.466034</td>\n",
       "      <td>2.732404</td>\n",
       "      <td>0.180169</td>\n",
       "      <td>...</td>\n",
       "      <td>40.675741</td>\n",
       "      <td>41.557809</td>\n",
       "      <td>24.947764</td>\n",
       "      <td>4.994774</td>\n",
       "      <td>0.329346</td>\n",
       "      <td>0.713043</td>\n",
       "      <td>0</td>\n",
       "      <td>0.720790</td>\n",
       "      <td>0.848993</td>\n",
       "      <td>0.055981</td>\n",
       "    </tr>\n",
       "    <tr>\n",
       "      <th>Ceftamin</th>\n",
       "      <td>13.247191</td>\n",
       "      <td>12.0</td>\n",
       "      <td>65.147591</td>\n",
       "      <td>8.071406</td>\n",
       "      <td>0.604977</td>\n",
       "      <td>27.398876</td>\n",
       "      <td>28.0</td>\n",
       "      <td>2.501016</td>\n",
       "      <td>1.581460</td>\n",
       "      <td>0.118535</td>\n",
       "      <td>...</td>\n",
       "      <td>52.591172</td>\n",
       "      <td>51.776157</td>\n",
       "      <td>39.290177</td>\n",
       "      <td>6.268188</td>\n",
       "      <td>0.469821</td>\n",
       "      <td>1.179775</td>\n",
       "      <td>1</td>\n",
       "      <td>1.402527</td>\n",
       "      <td>1.184283</td>\n",
       "      <td>0.088766</td>\n",
       "    </tr>\n",
       "    <tr>\n",
       "      <th>Infubinol</th>\n",
       "      <td>16.230337</td>\n",
       "      <td>20.0</td>\n",
       "      <td>56.404272</td>\n",
       "      <td>7.510278</td>\n",
       "      <td>0.562919</td>\n",
       "      <td>27.196629</td>\n",
       "      <td>27.0</td>\n",
       "      <td>4.769028</td>\n",
       "      <td>2.183810</td>\n",
       "      <td>0.163684</td>\n",
       "      <td>...</td>\n",
       "      <td>52.884795</td>\n",
       "      <td>51.820584</td>\n",
       "      <td>43.128684</td>\n",
       "      <td>6.567243</td>\n",
       "      <td>0.492236</td>\n",
       "      <td>0.960674</td>\n",
       "      <td>1</td>\n",
       "      <td>1.054942</td>\n",
       "      <td>1.027104</td>\n",
       "      <td>0.076985</td>\n",
       "    </tr>\n",
       "    <tr>\n",
       "      <th>Ketapril</th>\n",
       "      <td>15.659574</td>\n",
       "      <td>18.0</td>\n",
       "      <td>36.236432</td>\n",
       "      <td>6.019670</td>\n",
       "      <td>0.439030</td>\n",
       "      <td>27.861702</td>\n",
       "      <td>28.0</td>\n",
       "      <td>3.392536</td>\n",
       "      <td>1.841884</td>\n",
       "      <td>0.134333</td>\n",
       "      <td>...</td>\n",
       "      <td>55.235638</td>\n",
       "      <td>53.698743</td>\n",
       "      <td>68.553577</td>\n",
       "      <td>8.279709</td>\n",
       "      <td>0.603860</td>\n",
       "      <td>1.297872</td>\n",
       "      <td>1</td>\n",
       "      <td>1.942883</td>\n",
       "      <td>1.393873</td>\n",
       "      <td>0.101659</td>\n",
       "    </tr>\n",
       "    <tr>\n",
       "      <th>Naftisol</th>\n",
       "      <td>12.000000</td>\n",
       "      <td>9.0</td>\n",
       "      <td>45.102703</td>\n",
       "      <td>6.715855</td>\n",
       "      <td>0.492430</td>\n",
       "      <td>27.166667</td>\n",
       "      <td>27.0</td>\n",
       "      <td>2.247748</td>\n",
       "      <td>1.499249</td>\n",
       "      <td>0.109930</td>\n",
       "      <td>...</td>\n",
       "      <td>54.331565</td>\n",
       "      <td>52.509285</td>\n",
       "      <td>66.173479</td>\n",
       "      <td>8.134708</td>\n",
       "      <td>0.596466</td>\n",
       "      <td>1.182796</td>\n",
       "      <td>1</td>\n",
       "      <td>1.479919</td>\n",
       "      <td>1.216519</td>\n",
       "      <td>0.089200</td>\n",
       "    </tr>\n",
       "    <tr>\n",
       "      <th>Placebo</th>\n",
       "      <td>10.734807</td>\n",
       "      <td>10.0</td>\n",
       "      <td>40.384837</td>\n",
       "      <td>6.354907</td>\n",
       "      <td>0.472356</td>\n",
       "      <td>27.928177</td>\n",
       "      <td>28.0</td>\n",
       "      <td>3.378146</td>\n",
       "      <td>1.837973</td>\n",
       "      <td>0.136615</td>\n",
       "      <td>...</td>\n",
       "      <td>54.033581</td>\n",
       "      <td>52.288934</td>\n",
       "      <td>61.168083</td>\n",
       "      <td>7.821003</td>\n",
       "      <td>0.581331</td>\n",
       "      <td>1.441989</td>\n",
       "      <td>1</td>\n",
       "      <td>1.792449</td>\n",
       "      <td>1.338824</td>\n",
       "      <td>0.099514</td>\n",
       "    </tr>\n",
       "    <tr>\n",
       "      <th>Propriva</th>\n",
       "      <td>10.570513</td>\n",
       "      <td>8.0</td>\n",
       "      <td>51.678867</td>\n",
       "      <td>7.188801</td>\n",
       "      <td>0.575565</td>\n",
       "      <td>27.076923</td>\n",
       "      <td>26.0</td>\n",
       "      <td>2.845658</td>\n",
       "      <td>1.686908</td>\n",
       "      <td>0.135061</td>\n",
       "      <td>...</td>\n",
       "      <td>52.382993</td>\n",
       "      <td>50.783528</td>\n",
       "      <td>43.220205</td>\n",
       "      <td>6.574208</td>\n",
       "      <td>0.526358</td>\n",
       "      <td>0.993590</td>\n",
       "      <td>1</td>\n",
       "      <td>1.193507</td>\n",
       "      <td>1.092477</td>\n",
       "      <td>0.087468</td>\n",
       "    </tr>\n",
       "    <tr>\n",
       "      <th>Ramicane</th>\n",
       "      <td>10.684211</td>\n",
       "      <td>9.0</td>\n",
       "      <td>35.362393</td>\n",
       "      <td>5.946629</td>\n",
       "      <td>0.393825</td>\n",
       "      <td>19.679825</td>\n",
       "      <td>19.0</td>\n",
       "      <td>10.465318</td>\n",
       "      <td>3.235014</td>\n",
       "      <td>0.214244</td>\n",
       "      <td>...</td>\n",
       "      <td>40.216745</td>\n",
       "      <td>40.673236</td>\n",
       "      <td>23.486704</td>\n",
       "      <td>4.846308</td>\n",
       "      <td>0.320955</td>\n",
       "      <td>0.548246</td>\n",
       "      <td>0</td>\n",
       "      <td>0.477838</td>\n",
       "      <td>0.691259</td>\n",
       "      <td>0.045780</td>\n",
       "    </tr>\n",
       "    <tr>\n",
       "      <th>Stelasyn</th>\n",
       "      <td>12.784530</td>\n",
       "      <td>14.0</td>\n",
       "      <td>63.036648</td>\n",
       "      <td>7.939562</td>\n",
       "      <td>0.590143</td>\n",
       "      <td>27.856354</td>\n",
       "      <td>28.0</td>\n",
       "      <td>2.701473</td>\n",
       "      <td>1.643616</td>\n",
       "      <td>0.122169</td>\n",
       "      <td>...</td>\n",
       "      <td>54.233149</td>\n",
       "      <td>52.431737</td>\n",
       "      <td>59.450562</td>\n",
       "      <td>7.710419</td>\n",
       "      <td>0.573111</td>\n",
       "      <td>0.872928</td>\n",
       "      <td>1</td>\n",
       "      <td>0.944874</td>\n",
       "      <td>0.972046</td>\n",
       "      <td>0.072252</td>\n",
       "    </tr>\n",
       "    <tr>\n",
       "      <th>Zoniferol</th>\n",
       "      <td>12.598901</td>\n",
       "      <td>12.5</td>\n",
       "      <td>33.479115</td>\n",
       "      <td>5.786114</td>\n",
       "      <td>0.428895</td>\n",
       "      <td>27.692308</td>\n",
       "      <td>28.0</td>\n",
       "      <td>2.015300</td>\n",
       "      <td>1.419612</td>\n",
       "      <td>0.105229</td>\n",
       "      <td>...</td>\n",
       "      <td>53.236507</td>\n",
       "      <td>51.818479</td>\n",
       "      <td>48.533355</td>\n",
       "      <td>6.966589</td>\n",
       "      <td>0.516398</td>\n",
       "      <td>1.230769</td>\n",
       "      <td>1</td>\n",
       "      <td>1.559711</td>\n",
       "      <td>1.248884</td>\n",
       "      <td>0.092573</td>\n",
       "    </tr>\n",
       "  </tbody>\n",
       "</table>\n",
       "<p>10 rows × 25 columns</p>\n",
       "</div>"
      ],
      "text/plain": [
       "             Age_months                                       Weight (g)  \\\n",
       "                   mean median        var       std       sem       mean   \n",
       "Drug Regimen                                                               \n",
       "Capomulin     13.456522   16.5  59.620372  7.721423  0.509136  19.965217   \n",
       "Ceftamin      13.247191   12.0  65.147591  8.071406  0.604977  27.398876   \n",
       "Infubinol     16.230337   20.0  56.404272  7.510278  0.562919  27.196629   \n",
       "Ketapril      15.659574   18.0  36.236432  6.019670  0.439030  27.861702   \n",
       "Naftisol      12.000000    9.0  45.102703  6.715855  0.492430  27.166667   \n",
       "Placebo       10.734807   10.0  40.384837  6.354907  0.472356  27.928177   \n",
       "Propriva      10.570513    8.0  51.678867  7.188801  0.575565  27.076923   \n",
       "Ramicane      10.684211    9.0  35.362393  5.946629  0.393825  19.679825   \n",
       "Stelasyn      12.784530   14.0  63.036648  7.939562  0.590143  27.856354   \n",
       "Zoniferol     12.598901   12.5  33.479115  5.786114  0.428895  27.692308   \n",
       "\n",
       "                                                    ... Tumor Volume (mm3)  \\\n",
       "             median        var       std       sem  ...               mean   \n",
       "Drug Regimen                                        ...                      \n",
       "Capomulin      20.5   7.466034  2.732404  0.180169  ...          40.675741   \n",
       "Ceftamin       28.0   2.501016  1.581460  0.118535  ...          52.591172   \n",
       "Infubinol      27.0   4.769028  2.183810  0.163684  ...          52.884795   \n",
       "Ketapril       28.0   3.392536  1.841884  0.134333  ...          55.235638   \n",
       "Naftisol       27.0   2.247748  1.499249  0.109930  ...          54.331565   \n",
       "Placebo        28.0   3.378146  1.837973  0.136615  ...          54.033581   \n",
       "Propriva       26.0   2.845658  1.686908  0.135061  ...          52.382993   \n",
       "Ramicane       19.0  10.465318  3.235014  0.214244  ...          40.216745   \n",
       "Stelasyn       28.0   2.701473  1.643616  0.122169  ...          54.233149   \n",
       "Zoniferol      28.0   2.015300  1.419612  0.105229  ...          53.236507   \n",
       "\n",
       "                                                       Metastatic Sites  \\\n",
       "                 median        var       std       sem             mean   \n",
       "Drug Regimen                                                              \n",
       "Capomulin     41.557809  24.947764  4.994774  0.329346         0.713043   \n",
       "Ceftamin      51.776157  39.290177  6.268188  0.469821         1.179775   \n",
       "Infubinol     51.820584  43.128684  6.567243  0.492236         0.960674   \n",
       "Ketapril      53.698743  68.553577  8.279709  0.603860         1.297872   \n",
       "Naftisol      52.509285  66.173479  8.134708  0.596466         1.182796   \n",
       "Placebo       52.288934  61.168083  7.821003  0.581331         1.441989   \n",
       "Propriva      50.783528  43.220205  6.574208  0.526358         0.993590   \n",
       "Ramicane      40.673236  23.486704  4.846308  0.320955         0.548246   \n",
       "Stelasyn      52.431737  59.450562  7.710419  0.573111         0.872928   \n",
       "Zoniferol     51.818479  48.533355  6.966589  0.516398         1.230769   \n",
       "\n",
       "                                                   \n",
       "             median       var       std       sem  \n",
       "Drug Regimen                                       \n",
       "Capomulin         0  0.720790  0.848993  0.055981  \n",
       "Ceftamin          1  1.402527  1.184283  0.088766  \n",
       "Infubinol         1  1.054942  1.027104  0.076985  \n",
       "Ketapril          1  1.942883  1.393873  0.101659  \n",
       "Naftisol          1  1.479919  1.216519  0.089200  \n",
       "Placebo           1  1.792449  1.338824  0.099514  \n",
       "Propriva          1  1.193507  1.092477  0.087468  \n",
       "Ramicane          0  0.477838  0.691259  0.045780  \n",
       "Stelasyn          1  0.944874  0.972046  0.072252  \n",
       "Zoniferol         1  1.559711  1.248884  0.092573  \n",
       "\n",
       "[10 rows x 25 columns]"
      ]
     },
     "execution_count": 9,
     "metadata": {},
     "output_type": "execute_result"
    }
   ],
   "source": [
    "# Generate a summary statistics table of mean, median, variance, standard deviation, and SEM of the tumor volume for each regimen\n",
    "print(Statistical_Summary_DF)\n",
    "# Using the aggregation method, produce the same summary statistics in a single line**(WASN'T SURE IF THIS MEANT WITH ONE\n",
    "#LINE OF CODE, OR THE THE SUMMARY IN ONE LINE)**\n",
    "agg_summary = clean_mice_df.groupby([\"Drug Regimen\"]).agg(['mean','median','var','std','sem'])\n",
    "agg_summary"
   ]
  },
  {
   "cell_type": "markdown",
   "metadata": {},
   "source": [
    "## Bar and Pie Charts"
   ]
  },
  {
   "cell_type": "code",
   "execution_count": 10,
   "metadata": {},
   "outputs": [
    {
     "data": {
      "text/plain": [
       "Text(0.5, 1.0, '# of Unique Mice Tested')"
      ]
     },
     "execution_count": 10,
     "metadata": {},
     "output_type": "execute_result"
    },
    {
     "data": {
      "image/png": "[encoded data removed]",
      "text/plain": [
       "<Figure size 432x288 with 1 Axes>"
      ]
     },
     "metadata": {
      "needs_background": "light"
     },
     "output_type": "display_data"
    }
   ],
   "source": [
    "# Generate a bar plot showing the total number of unique mice tested on each drug regimen using pandas.\n",
    "mice_group = clean_mice_df.groupby([\"Drug Regimen\"]).count()\n",
    "mice_ID = mice_group.loc[:,\"Mouse ID\"]\n",
    "unique_mice_byregimen = pd.DataFrame(mice_ID)\n",
    "unique_mice_byregimen.plot(kind=\"bar\")\n",
    "plt.title(\"# of Unique Mice Tested\")"
   ]
  },
  {
   "cell_type": "code",
   "execution_count": 11,
   "metadata": {},
   "outputs": [
    {
     "data": {
      "image/png": "[encoded data removed]",
      "text/plain": [
       "<Figure size 432x288 with 1 Axes>"
      ]
     },
     "metadata": {
      "needs_background": "light"
     },
     "output_type": "display_data"
    },
    {
     "data": {
      "text/plain": [
       "<Figure size 432x288 with 0 Axes>"
      ]
     },
     "metadata": {},
     "output_type": "display_data"
    }
   ],
   "source": [
    "# Generate a bar plot showing the total number of unique mice tested on each drug regimen using pyplot.\n",
    "x_axis = np.arange(len(unique_mice_byregimen.index))\n",
    "tick_locations = [value for value in x_axis]\n",
    "plt.title(\"# of Unique Mice Tested\")\n",
    "plt.xlabel(\"Drug Regimen\")\n",
    "plt.ylabel(\"Number of Mice ID's\")\n",
    "plt.xlim(-.75, len(unique_mice_byregimen.index)-.25)\n",
    "plt.ylim(0, max(mice_ID) +10)\n",
    "plt.bar(x_axis, mice_ID, facecolor=\"blue\", alpha=0.75, align=\"center\")\n",
    "plt.xticks(tick_locations, unique_mice_byregimen.index, rotation = 'vertical')\n",
    "plt.show()\n",
    "plt.tight_layout()"
   ]
  },
  {
   "cell_type": "code",
   "execution_count": 12,
   "metadata": {},
   "outputs": [
    {
     "data": {
      "text/plain": [
       "<matplotlib.axes._subplots.AxesSubplot at 0x15895cf6b20>"
      ]
     },
     "execution_count": 12,
     "metadata": {},
     "output_type": "execute_result"
    },
    {
     "data": {
      "image/png": "[encoded data removed]",
      "text/plain": [
       "<Figure size 432x288 with 1 Axes>"
      ]
     },
     "metadata": {},
     "output_type": "display_data"
    }
   ],
   "source": [
    "# Generate a pie plot showing the distribution of female versus male mice using pandas\n",
    "male_female = clean_mice_df.loc[:,[\"Mouse ID\",\"Sex\"]]\n",
    "clean_male_female = male_female.drop_duplicates(subset=[\"Mouse ID\", \"Sex\"], keep='last')\n",
    "male_female_pie = clean_male_female[\"Sex\"].value_counts()\n",
    "male_female_pie.plot(kind=\"pie\", y= \"Sex\", title = (\"Distibution of Female vs Male Mice\"))"
   ]
  },
  {
   "cell_type": "code",
   "execution_count": 13,
   "metadata": {},
   "outputs": [
    {
     "data": {
      "image/png": "[encoded data removed]",
      "text/plain": [
       "<Figure size 432x288 with 1 Axes>"
      ]
     },
     "metadata": {},
     "output_type": "display_data"
    }
   ],
   "source": [
    "# Generate a pie plot showing the distribution of female versus male mice using pyplot\n",
    "mf = clean_male_female[\"Sex\"].unique()\n",
    "colors = \"darkorange\", \"royalblue\"\n",
    "plt.pie(male_female_pie, labels=mf, colors=colors, autopct=\"%1.1f%%\", startangle=180)\n",
    "plt.axis(\"equal\")\n",
    "plt.show()"
   ]
  },
  {
   "cell_type": "markdown",
   "metadata": {},
   "source": [
    "## Quartiles, Outliers and Boxplots"
   ]
  },
  {
   "cell_type": "code",
   "execution_count": 14,
   "metadata": {},
   "outputs": [],
   "source": [
    "# Calculate the final tumor volume of each mouse across four of the treatment regimens:  \n",
    "# Capomulin, Ramicane, Infubinol, and Ceftamin\n",
    " #CREATED A DF FOR EACH DRUG REGIMEN\n",
    "drug_count_one = clean_mice_df.loc[clean_mice_df['Drug Regimen']==\"Capomulin\"]\n",
    "drug_count_two = clean_mice_df.loc[clean_mice_df['Drug Regimen']==\"Ramicane\"]\n",
    "drug_count_three = clean_mice_df.loc[clean_mice_df['Drug Regimen']==\"Infubinol\"]\n",
    "drug_count_four = clean_mice_df.loc[clean_mice_df['Drug Regimen']==\"Ceftamin\"]\n",
    "\n",
    "# Start by getting the last (greatest) timepoint for each mouse\n",
    "#GATHERED THE LAST TIMEPOINT BY ISOLATING THE LAST TIME THE MOUSE ID WAS REFERENCED EACH DF\n",
    "tumorgrp_one = drug_count_one.groupby(\"Mouse ID\").last()\n",
    "tumorgrp_two = drug_count_two.groupby(\"Mouse ID\").last()\n",
    "tumorgrp_three = drug_count_three.groupby(\"Mouse ID\").last()\n",
    "tumorgrp_four = drug_count_four.groupby(\"Mouse ID\").last()\n",
    "\n",
    "# PULLED TUMOR VOLUME FROM THE ABOVE DF'S AS THEY ALL HAVE THE LAST TIMEPOINT INFORMATION\n",
    "Capomulin_df = tumorgrp_one['Tumor Volume (mm3)']\n",
    "Ramicane_df = tumorgrp_two['Tumor Volume (mm3)']\n",
    "Infubinol_df  = tumorgrp_three['Tumor Volume (mm3)']\n",
    "Ceftamin_df  = tumorgrp_four['Tumor Volume (mm3)']"
   ]
  },
  {
   "cell_type": "code",
   "execution_count": 15,
   "metadata": {},
   "outputs": [
    {
     "name": "stdout",
     "output_type": "stream",
     "text": [
      "The lower quartile of CAPOMULIN is: 32.37735684\n",
      "The upper quartile of CAPOMULIN is: 40.1592203\n",
      "The interquartile range of CAPOMULIN is: 7.781863460000004\n",
      "The the median of CAPOMULIN is: 38.125164399999996 \n",
      "Values below 20.70456164999999 could be outliers.\n",
      "Values above 51.83201549 could be outliers.\n"
     ]
    }
   ],
   "source": [
    "# Calculate the IQR and quantitatively determine if there are any potential outliers. \n",
    " #QUARTILES FOR CAPOMULIN\n",
    "quartiles = Capomulin_df.quantile([.25,.5,.75])\n",
    "lowerq = quartiles[0.25]\n",
    "upperq = quartiles[0.75]\n",
    "iqr = upperq-lowerq\n",
    "    # add subset \n",
    "print(f\"The lower quartile of CAPOMULIN is: {lowerq}\")\n",
    "print(f\"The upper quartile of CAPOMULIN is: {upperq}\")\n",
    "print(f\"The interquartile range of CAPOMULIN is: {iqr}\")\n",
    "print(f\"The the median of CAPOMULIN is: {quartiles[0.5]} \")\n",
    "    # Determine outliers using upper and lower bounds\n",
    "lower_bound = lowerq - (1.5*iqr)\n",
    "upper_bound = upperq + (1.5*iqr)\n",
    "print(f\"Values below {lower_bound} could be outliers.\")\n",
    "print(f\"Values above {upper_bound} could be outliers.\")"
   ]
  },
  {
   "cell_type": "code",
   "execution_count": 16,
   "metadata": {},
   "outputs": [
    {
     "name": "stdout",
     "output_type": "stream",
     "text": [
      "The lower quartile of RAMICANE is: 31.56046955\n",
      "The upper quartile of RAMICANE is: 40.65900627\n",
      "The interquartile range of RAMICANE is: 9.098536719999998\n",
      "The the median of RAMICANE is: 36.56165229 \n",
      "Values below 17.912664470000003 could be outliers.\n",
      "Values above 54.30681135 could be outliers.\n"
     ]
    }
   ],
   "source": [
    "# Calculate the IQR and quantitatively determine if there are any potential outliers. \n",
    " #QUARTILES FOR RAMICANE\n",
    "quartiles = Ramicane_df.quantile([.25,.5,.75])\n",
    "lowerq = quartiles[0.25]\n",
    "upperq = quartiles[0.75]\n",
    "iqr = upperq-lowerq\n",
    "    # add subset \n",
    "print(f\"The lower quartile of RAMICANE is: {lowerq}\")\n",
    "print(f\"The upper quartile of RAMICANE is: {upperq}\")\n",
    "print(f\"The interquartile range of RAMICANE is: {iqr}\")\n",
    "print(f\"The the median of RAMICANE is: {quartiles[0.5]} \")\n",
    "    # Determine outliers using upper and lower bounds\n",
    "lower_bound = lowerq - (1.5*iqr)\n",
    "upper_bound = upperq + (1.5*iqr)\n",
    "print(f\"Values below {lower_bound} could be outliers.\")\n",
    "print(f\"Values above {upper_bound} could be outliers.\")"
   ]
  },
  {
   "cell_type": "code",
   "execution_count": 17,
   "metadata": {},
   "outputs": [
    {
     "name": "stdout",
     "output_type": "stream",
     "text": [
      "The lower quartile of INFUBINOL is: 54.04860769\n",
      "The upper quartile of INFUBINOL is: 65.52574285\n",
      "The interquartile range of INFUBINOL is: 11.477135160000003\n",
      "The the median of INFUBINOL is: 60.16518046 \n",
      "Values below 36.83290494999999 could be outliers.\n",
      "Values above 82.74144559000001 could be outliers.\n"
     ]
    }
   ],
   "source": [
    "# Calculate the IQR and quantitatively determine if there are any potential outliers. \n",
    " #QUARTILES FOR INFUBINOL\n",
    "quartiles = Infubinol_df.quantile([.25,.5,.75])\n",
    "lowerq = quartiles[0.25]\n",
    "upperq = quartiles[0.75]\n",
    "iqr = upperq-lowerq\n",
    "    # add subset \n",
    "print(f\"The lower quartile of INFUBINOL is: {lowerq}\")\n",
    "print(f\"The upper quartile of INFUBINOL is: {upperq}\")\n",
    "print(f\"The interquartile range of INFUBINOL is: {iqr}\")\n",
    "print(f\"The the median of INFUBINOL is: {quartiles[0.5]} \")\n",
    "    # Determine outliers using upper and lower bounds\n",
    "lower_bound = lowerq - (1.5*iqr)\n",
    "upper_bound = upperq + (1.5*iqr)\n",
    "print(f\"Values below {lower_bound} could be outliers.\")\n",
    "print(f\"Values above {upper_bound} could be outliers.\")"
   ]
  },
  {
   "cell_type": "code",
   "execution_count": 18,
   "metadata": {},
   "outputs": [
    {
     "name": "stdout",
     "output_type": "stream",
     "text": [
      "The lower quartile of CEFTAMIN is: 48.72207785\n",
      "The upper quartile of CEFTAMIN is: 64.29983003\n",
      "The interquartile range of CEFTAMIN is: 15.577752179999997\n",
      "The the median of CEFTAMIN is: 59.85195552 \n",
      "Values below 25.355449580000002 could be outliers.\n",
      "Values above 87.66645829999999 could be outliers.\n"
     ]
    }
   ],
   "source": [
    "# Calculate the IQR and quantitatively determine if there are any potential outliers. \n",
    " #QUARTILES FOR CEFTAMIN\n",
    "quartiles = Ceftamin_df.quantile([.25,.5,.75])\n",
    "lowerq = quartiles[0.25]\n",
    "upperq = quartiles[0.75]\n",
    "iqr = upperq-lowerq\n",
    "    # add subset \n",
    "print(f\"The lower quartile of CEFTAMIN is: {lowerq}\")\n",
    "print(f\"The upper quartile of CEFTAMIN is: {upperq}\")\n",
    "print(f\"The interquartile range of CEFTAMIN is: {iqr}\")\n",
    "print(f\"The the median of CEFTAMIN is: {quartiles[0.5]} \")\n",
    "    # Determine outliers using upper and lower bounds\n",
    "lower_bound = lowerq - (1.5*iqr)\n",
    "upper_bound = upperq + (1.5*iqr)\n",
    "print(f\"Values below {lower_bound} could be outliers.\")\n",
    "print(f\"Values above {upper_bound} could be outliers.\")"
   ]
  },
  {
   "cell_type": "code",
   "execution_count": 19,
   "metadata": {},
   "outputs": [
    {
     "data": {
      "image/png": "[encoded data removed]",
      "text/plain": [
       "<Figure size 432x288 with 1 Axes>"
      ]
     },
     "metadata": {
      "needs_background": "light"
     },
     "output_type": "display_data"
    }
   ],
   "source": [
    "# Generate a box plot of the final tumor volume of each mouse across four regimens of interest\n",
    "\n",
    "data = [Capomulin_df, Ramicane_df, Infubinol_df, Ceftamin_df]\n",
    "green_diamond = dict(markerfacecolor='g', marker='D')\n",
    "fig1, ax1 = plt.subplots()\n",
    "ax1.set_title('Tumor Volume')\n",
    "ax1.set_ylabel('Tumor Volume (mm3)')\n",
    "ax1.boxplot(data, flierprops=green_diamond)\n",
    "plt.show()"
   ]
  },
  {
   "cell_type": "markdown",
   "metadata": {},
   "source": [
    "## Line and Scatter Plots"
   ]
  },
  {
   "cell_type": "code",
   "execution_count": 20,
   "metadata": {},
   "outputs": [
    {
     "name": "stdout",
     "output_type": "stream",
     "text": [
      "           Tumor Volume (mm3)\n",
      "Timepoint                    \n",
      "0                   45.000000\n",
      "5                   42.261665\n",
      "10                  42.992077\n",
      "15                  43.529876\n",
      "20                  43.967895\n",
      "25                  44.596219\n",
      "30                  45.261384\n",
      "35                  45.941949\n",
      "40                  46.821070\n",
      "45                  47.685963\n"
     ]
    },
    {
     "data": {
      "image/png": "[encoded data removed]",
      "text/plain": [
       "<Figure size 432x288 with 1 Axes>"
      ]
     },
     "metadata": {
      "needs_background": "light"
     },
     "output_type": "display_data"
    }
   ],
   "source": [
    "# Generate a line plot of tumor volume vs. time point for a mouse treated with Capomulin\n",
    " # FILTERED THE DF TO ONLY THE COLUMNS TO CHART  \n",
    "mouse_i557_data = drug_count_one.loc[drug_count_one[\"Mouse ID\"]==\"i557\",[\"Timepoint\", \"Tumor Volume (mm3)\"]]\n",
    "\n",
    "mouse_i557_data = mouse_i557_data.set_index(\"Timepoint\")\n",
    "print(mouse_i557_data)\n",
    "mouse_i557_data.plot(label=\"Mouse I557\")\n",
    "plt.legend\n",
    "plt.show()\n"
   ]
  },
  {
   "cell_type": "code",
   "execution_count": 21,
   "metadata": {},
   "outputs": [
    {
     "data": {
      "image/png": "[encoded data removed]",
      "text/plain": [
       "<Figure size 432x288 with 1 Axes>"
      ]
     },
     "metadata": {
      "needs_background": "light"
     },
     "output_type": "display_data"
    }
   ],
   "source": [
    "# Generate a scatter plot of average tumor volume vs. mouse weight for the Capomulin regimen\n",
    "Capomulin_scatter = tumorgrp_one.loc[:,['Tumor Volume (mm3)','Weight (g)']]\n",
    "plt.scatter(Capomulin_scatter.iloc[:,0],Capomulin_scatter.iloc[:,1])\n",
    "plt.xlabel('Tumor Volume (mm3)')\n",
    "plt.ylabel('Weight (g)')\n",
    "plt.show()"
   ]
  },
  {
   "cell_type": "markdown",
   "metadata": {},
   "source": [
    "## Correlation and Regression"
   ]
  },
  {
   "cell_type": "code",
   "execution_count": 22,
   "metadata": {},
   "outputs": [
    {
     "name": "stdout",
     "output_type": "stream",
     "text": [
      "The correlation between both factors is 0.88\n"
     ]
    },
    {
     "data": {
      "image/png": "[encoded data removed]",
      "text/plain": [
       "<Figure size 432x288 with 1 Axes>"
      ]
     },
     "metadata": {
      "needs_background": "light"
     },
     "output_type": "display_data"
    }
   ],
   "source": [
    "# Calculate the correlation coefficient and linear regression model \n",
    "# for mouse weight and average tumor volume for the Capomulin regimen\n",
    " #CORRELATION COEFFICIENT FOR TUMOR VOLUME VS WEIGHT FOR CAPOMULIN\n",
    "tumor_volume = Capomulin_scatter.iloc[:,0]\n",
    "weight = Capomulin_scatter.iloc[:,1]\n",
    "correlation = st.pearsonr(tumor_volume,weight)\n",
    "plt.scatter(tumor_volume,weight)\n",
    "plt.xlabel('Tumor Volume (mm3)')\n",
    "plt.ylabel('Weight (g)')\n",
    "print(f\"The correlation between both factors is {round(correlation[0],2)}\")\n",
    "plt.show()"
   ]
  },
  {
   "cell_type": "code",
   "execution_count": 23,
   "metadata": {},
   "outputs": [
    {
     "name": "stdout",
     "output_type": "stream",
     "text": [
      "The r-squared is: 0.7686134812139\n"
     ]
    },
    {
     "data": {
      "image/png": "[encoded data removed]",
      "text/plain": [
       "<Figure size 432x288 with 1 Axes>"
      ]
     },
     "metadata": {
      "needs_background": "light"
     },
     "output_type": "display_data"
    }
   ],
   "source": [
    " #LINEAR REGRESSION FOR TUMOR VOLUME VS WEIGHT FOR CAPOMULIN\n",
    "x_values = Capomulin_scatter.iloc[:,0]\n",
    "y_values = Capomulin_scatter.iloc[:,1]\n",
    "(slope, intercept, rvalue, pvalue, stderr) = linregress(x_values, y_values)\n",
    "regress_values = x_values * slope + intercept\n",
    "line_eq = \"y = \" + str(round(slope,2)) + \"x + \" + str(round(intercept,2))\n",
    "plt.scatter(x_values,y_values)\n",
    "plt.plot(x_values,regress_values,\"r-\")\n",
    "plt.annotate(line_eq,(6,10),fontsize=15,color=\"red\")\n",
    "plt.xlabel('Tumor Volume (mm3)')\n",
    "plt.ylabel('Weight (g)')\n",
    "print(f\"The r-squared is: {rvalue**2}\")\n",
    "plt.show()    "
   ]
  },
  {
   "cell_type": "code",
   "execution_count": null,
   "metadata": {},
   "outputs": [],
   "source": []
  }
 ],
 "metadata": {
  "anaconda-cloud": {},
  "kernelspec": {
   "display_name": "Python 3",
   "language": "python",
   "name": "python3"
  },
  "language_info": {
   "codemirror_mode": {
    "name": "ipython",
    "version": 3
   },
   "file_extension": ".py",
   "mimetype": "text/x-python",
   "name": "python",
   "nbconvert_exporter": "python",
   "pygments_lexer": "ipython3",
   "version": "3.8.3"
  }
 },
 "nbformat": 4,
 "nbformat_minor": 4
}
