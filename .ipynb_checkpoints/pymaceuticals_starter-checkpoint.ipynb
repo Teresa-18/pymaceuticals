{
 "cells": [
  {
   "cell_type": "markdown",
   "metadata": {},
   "source": [
    "## Observations and Insights "
   ]
  },
  {
   "cell_type": "markdown",
   "metadata": {},
   "source": []
  },
  {
   "cell_type": "code",
   "execution_count": null,
   "metadata": {},
   "outputs": [],
   "source": [
    "# Dependencies and Setup\n",
    "import matplotlib.pyplot as plt\n",
    "import pandas as pd\n",
    "import scipy.stats as st\n",
    "import numpy as np\n",
    "\n",
    "# Study data files\n",
    "mouse_metadata_path = \"data/Mouse_metadata.csv\"\n",
    "study_results_path = \"data/Study_results.csv\"\n",
    "\n",
    "# Read the mouse data and the study results\n",
    "mouse_metadata = pd.read_csv(mouse_metadata_path)\n",
    "study_results = pd.read_csv(study_results_path)\n",
    "\n",
    "# Combine the data into a single dataset\n",
    "data_complete = pd.merge(mouse_metadata, study_results, on=[\"Mouse ID\", \"Mouse ID\"], how=\"left\")\n",
    "# Display the data table for preview\n",
    "data_complete"
   ]
  },
  {
   "cell_type": "code",
   "execution_count": null,
   "metadata": {},
   "outputs": [],
   "source": [
    "# Checking the number of mice.\n",
    "Unique_mice_df =(data_complete[\"Mouse ID\"]).unique()\n",
    "len(Unique_mice_df)"
   ]
  },
  {
   "cell_type": "code",
   "execution_count": null,
   "metadata": {},
   "outputs": [],
   "source": [
    "# Getting the duplicate mice by ID number that shows up for Mouse ID and Timepoint. \n",
    "dup_mouse = data_complete.duplicated(subset=[\"Mouse ID\", \"Timepoint\"], keep='last')\n",
    "print(dup_mouse)"
   ]
  },
  {
   "cell_type": "code",
   "execution_count": null,
   "metadata": {},
   "outputs": [],
   "source": [
    "# Optional: Get all the data for the duplicate mouse ID. \n",
    "dup_mouse_data = data_complete[data_complete.duplicated(subset=[\"Mouse ID\",\"Timepoint\"])]\n",
    "print(dup_mouse_data)"
   ]
  },
  {
   "cell_type": "code",
   "execution_count": null,
   "metadata": {},
   "outputs": [],
   "source": [
    "# Create a clean DataFrame by dropping the duplicate mouse by its ID.\n",
    "clean_mice_df = data_complete.drop_duplicates(subset=[\"Mouse ID\", \"Timepoint\"], keep='last')\n",
    "print(len(clean_mice_df))"
   ]
  },
  {
   "cell_type": "code",
   "execution_count": null,
   "metadata": {},
   "outputs": [],
   "source": [
    "# Checking the number of mice in the clean DataFrame.\n",
    "number_mice_df = pd.unique(clean_mice_df[\"Mouse ID\"])\n",
    "len(number_mice_df)"
   ]
  },
  {
   "cell_type": "markdown",
   "metadata": {},
   "source": [
    "## Summary Statistics"
   ]
  },
  {
   "cell_type": "code",
   "execution_count": null,
   "metadata": {},
   "outputs": [],
   "source": [
    "# Generate a summary statistics table of mean, median, variance, standard deviation, and SEM of the tumor volume for each regimen\n",
    "\n",
    "# Use groupby and summary statistical methods to calculate the following properties of each drug regimen: \n",
    "# mean, median, variance, standard deviation, and SEM of the tumor volume. \n",
    "\n",
    "stat_mean_byregimen = clean_mice_df.groupby([\"Drug Regimen\"]).mean()\n",
    "stat_mean_ = stat_mean_byregimen.loc[:,'Tumor Volume (mm3)']\n",
    "stat_mean_bytumor = pd.Series(stat_mean_, name=\"Mean\")\n",
    "print(stat_mean_bytumor)\n",
    "\n",
    "stat_median_byregimen = clean_mice_df.groupby([\"Drug Regimen\"]).median()\n",
    "median_ = stat_median_byregimen.loc[:,'Tumor Volume (mm3)']\n",
    "median_bytumor = pd.Series(median_, name=\"Median\")\n",
    "print(median_bytumor)\n",
    "\n",
    "stat_variance_byregimen = clean_mice_df.groupby([\"Drug Regimen\"]).var()\n",
    "variance_ = stat_variance_byregimen.loc[:,'Tumor Volume (mm3)']\n",
    "variance_bytumor = pd.Series(variance_, name=\"Variance\")\n",
    "print(variance_bytumor)\n",
    "\n",
    "stat_stddevi_byregimen = clean_mice_df.groupby([\"Drug Regimen\"]).std()\n",
    "stdDevi_ = stat_stddevi_byregimen.loc[:,'Tumor Volume (mm3)']\n",
    "stdDevi_bytumor = pd.Series(stdDevi_, name=\"Standard Deviation\")\n",
    "print(stdDevi_bytumor)\n",
    "\n",
    "stat_SEM_byregimen = clean_mice_df.groupby([\"Drug Regimen\"]).sem()\n",
    "stat_SEM_ = stat_SEM_byregimen.loc[:,'Tumor Volume (mm3)']\n",
    "stat_SEM_bytumor = pd.Series(stat_SEM_, name=\"SEM\")\n",
    "print(stat_SEM_bytumor)"
   ]
  },
  {
   "cell_type": "code",
   "execution_count": null,
   "metadata": {},
   "outputs": [],
   "source": [
    "# Assemble the resulting series into a single summary dataframe.\n",
    "\n",
    "df1 = [stat_mean_bytumor, median_bytumor, variance_bytumor, stdDevi_bytumor, stat_SEM_bytumor]\n",
    "Statistical_Summary_DF = pd.concat(df1, axis=1)\n",
    "Statistical_Summary_DF"
   ]
  },
  {
   "cell_type": "code",
   "execution_count": null,
   "metadata": {},
   "outputs": [],
   "source": [
    "# Generate a summary statistics table of mean, median, variance, standard deviation, and SEM of the tumor volume for each regimen\n",
    "\n",
    "# Using the aggregation method, produce the same summary statistics in a single line\n",
    "agg_summary = clean_mice_df.groupby([\"Drug Regimen\"]).agg(['mean','median','var','std','sem'])\n",
    "agg_summary"
   ]
  },
  {
   "cell_type": "markdown",
   "metadata": {},
   "source": [
    "## Bar and Pie Charts"
   ]
  },
  {
   "cell_type": "code",
   "execution_count": null,
   "metadata": {},
   "outputs": [],
   "source": [
    "# Generate a bar plot showing the total number of unique mice tested on each drug regimen using pandas.\n",
    "mice_group = clean_mice_df.groupby([\"Drug Regimen\"]).count()\n",
    "mice_ID = mice_group.loc[:,\"Mouse ID\"]\n",
    "unique_mice_byregimen = pd.DataFrame(mice_ID)\n",
    "\n",
    "unique_mice_byregimen.plot(kind=\"bar\")\n",
    "\n",
    "plt.title(\"# of Unique Mice Tested\")\n"
   ]
  },
  {
   "cell_type": "code",
   "execution_count": null,
   "metadata": {},
   "outputs": [],
   "source": [
    "# Generate a bar plot showing the total number of unique mice tested on each drug regimen using pyplot.\n",
    "#print(unique_mice_byregimen.index)\n",
    "\n",
    "x_axis = np.arange(len(unique_mice_byregimen.index))\n",
    "tick_locations = [value for value in x_axis]\n",
    "\n",
    "plt.title(\"# of Unique Mice Tested\")\n",
    "plt.xlabel(\"Drug Regimen\")\n",
    "plt.ylabel(\"Number of Mice ID's\")\n",
    "\n",
    "plt.xlim(-.75, len(unique_mice_byregimen.index)-.25)\n",
    "plt.ylim(0, max(mice_ID) +10)\n",
    "\n",
    "plt.bar(x_axis, mice_ID, facecolor=\"blue\", alpha=0.75, align=\"center\")\n",
    "plt.xticks(tick_locations, unique_mice_byregimen.index, rotation = 'vertical')\n",
    "plt.show()\n",
    "plt.tight_layout()"
   ]
  },
  {
   "cell_type": "code",
   "execution_count": null,
   "metadata": {},
   "outputs": [],
   "source": [
    "# Generate a pie plot showing the distribution of female versus male mice using pandas\n",
    "\n",
    "male_female = clean_mice_df.loc[:,[\"Mouse ID\",\"Sex\"]]\n",
    "male_female\n",
    "\n",
    "clean_male_female = male_female.drop_duplicates(subset=[\"Mouse ID\", \"Sex\"], keep='last')\n",
    "mf_pie = clean_male_female[\"Sex\"].value_counts()\n",
    "mf_pie.plot(kind=\"pie\", y= \"Sex\", title = (\"Distibution of Female vs Male Mice\"))"
   ]
  },
  {
   "cell_type": "code",
   "execution_count": null,
   "metadata": {},
   "outputs": [],
   "source": [
    "# Generate a pie plot showing the distribution of female versus male mice using pyplot\n",
    "\n",
    "mf = clean_male_female[\"Sex\"].unique()\n",
    "colors = \"darkorange\", \"royalblue\"\n",
    "plt.pie(mf_pie, labels=mf, colors=colors,\n",
    "        autopct=\"%1.1f%%\", startangle=180)\n",
    "plt.axis(\"equal\")\n",
    "plt.show()"
   ]
  },
  {
   "cell_type": "markdown",
   "metadata": {},
   "source": [
    "## Quartiles, Outliers and Boxplots"
   ]
  },
  {
   "cell_type": "code",
   "execution_count": 116,
   "metadata": {},
   "outputs": [
    {
     "name": "stdout",
     "output_type": "stream",
     "text": [
      "Mouse ID\n",
      "b128    38.982878\n",
      "b742    38.939633\n",
      "f966    30.485985\n",
      "g288    37.074024\n",
      "g316    40.159220\n",
      "i557    47.685963\n",
      "i738    37.311846\n",
      "j119    38.125164\n",
      "j246    38.753265\n",
      "l509    41.483008\n",
      "l897    38.846876\n",
      "m601    28.430964\n",
      "m957    33.329098\n",
      "r157    46.539206\n",
      "r554    32.377357\n",
      "r944    41.581521\n",
      "s185    23.343598\n",
      "s710    40.728578\n",
      "t565    34.455298\n",
      "u364    31.023923\n",
      "v923    40.658124\n",
      "w150    39.952347\n",
      "w914    36.041047\n",
      "x401    28.484033\n",
      "y793    31.896238\n",
      "Name: Tumor Volume (mm3), dtype: float64\n"
     ]
    }
   ],
   "source": [
    "# Calculate the final tumor volume of each mouse across four of the treatment regimens:  \n",
    "# Capomulin, Ramicane, Infubinol, and Ceftamin\n",
    "\n",
    "drug_count_one = clean_mice_df.loc[clean_mice_df['Drug Regimen']==\"Capomulin\"]\n",
    "drug_count_two = clean_mice_df.loc[clean_mice_df['Drug Regimen']==\"Ramicane\"]\n",
    "drug_count_three = clean_mice_df.loc[clean_mice_df['Drug Regimen']==\"Infubinol\"]\n",
    "drug_count_four = clean_mice_df.loc[clean_mice_df['Drug Regimen']==\"Ceftamin\"]\n",
    "\n",
    "\n",
    "# Start by getting the last (greatest) timepoint for each mouse\n",
    "# Merge this group df with the original dataframe to get the tumor volume at the last timepoint\n",
    "tumorgrp_onef = drug_count_one.groupby(\"Mouse ID\").first()\n",
    "tumorgrp_one = drug_count_one.groupby(\"Mouse ID\").last()\n",
    "final_tumor_volume_CAP = (tumorgrp_one['Tumor Volume (mm3)']-tumorgrp_onef['Tumor Volume (mm3)'])\n",
    "\n",
    "tumorgrp_twof = drug_count_two.groupby(\"Mouse ID\").first()\n",
    "tumorgrp_two = drug_count_two.groupby(\"Mouse ID\").last()\n",
    "final_tumor_volume_RAM = (tumorgrp_two['Tumor Volume (mm3)']-tumorgrp_twof['Tumor Volume (mm3)'])\n",
    "\n",
    "tumorgrp_threef = drug_count_three.groupby(\"Mouse ID\").first()\n",
    "tumorgrp_three = drug_count_three.groupby(\"Mouse ID\").last()\n",
    "final_tumor_volume_INF = (tumorgrp_three['Tumor Volume (mm3)']-tumorgrp_threef['Tumor Volume (mm3)'])\n",
    "\n",
    "tumorgrp_fourf = drug_count_four.groupby(\"Mouse ID\").first()\n",
    "tumorgrp_four = drug_count_four.groupby(\"Mouse ID\").last()\n",
    "final_tumor_volume_CEF = (tumorgrp_four['Tumor Volume (mm3)']-tumorgrp_fourf['Tumor Volume (mm3)'])\n",
    "\n",
    "Capomulin_df = tumorgrp_one['Tumor Volume (mm3)']\n",
    "Ramicane_df = tumorgrp_two['Tumor Volume (mm3)']\n",
    "Infubinol_df  = tumorgrp_three['Tumor Volume (mm3)']\n",
    "Ceftamin_df  = tumorgrp_four['Tumor Volume (mm3)']\n",
    "print(Capomulin_df)\n"
   ]
  },
  {
   "cell_type": "code",
   "execution_count": 123,
   "metadata": {},
   "outputs": [
    {
     "name": "stdout",
     "output_type": "stream",
     "text": [
      "The lower quartile of CAPOMULIN is: 32.37735684\n",
      "The upper quartile of CAPOMULIN is: 40.1592203\n",
      "The interquartile range of CAPOMULIN is: 7.781863460000004\n",
      "The the median of CAPOMULIN is: 38.125164399999996 \n",
      "Values below 20.70456164999999 could be outliers.\n",
      "Values above 51.83201549 could be outliers.\n",
      "The lower quartile of RAMICANE is: 31.56046955\n",
      "The upper quartile of RAMICANE is: 40.65900627\n",
      "The interquartile range of RAMICANE is: 9.098536719999998\n",
      "The the median of RAMICANE is: 36.56165229 \n",
      "Values below 17.912664470000003 could be outliers.\n",
      "Values above 54.30681135 could be outliers.\n",
      "The lower quartile of INFUBINOL is: 54.04860769\n",
      "The upper quartile of INFUBINOL is: 65.52574285\n",
      "The interquartile range of INFUBINOL is: 11.477135160000003\n",
      "The the median of INFUBINOL is: 60.16518046 \n",
      "Values below 36.83290494999999 could be outliers.\n",
      "Values above 82.74144559000001 could be outliers.\n",
      "The lower quartile of CEFTAMIN is: 48.72207785\n",
      "The upper quartile of CEFTAMIN is: 64.29983003\n",
      "The interquartile range of CEFTAMIN is: 15.577752179999997\n",
      "The the median of CEFTAMIN is: 59.85195552 \n",
      "Values below 25.355449580000002 could be outliers.\n",
      "Values above 87.66645829999999 could be outliers.\n"
     ]
    }
   ],
   "source": [
    "# Put treatments into a list for for loop (and later for plot labels\n",
    "# Calculate the IQR and quantitatively determine if there are any potential outliers. \n",
    "\n",
    "#QUARTILES FOR CAPOMULIN\n",
    "quartiles = Capomulin_df.quantile([.25,.5,.75])\n",
    "lowerq = quartiles[0.25]\n",
    "upperq = quartiles[0.75]\n",
    "iqr = upperq-lowerq\n",
    "    # add subset \n",
    "print(f\"The lower quartile of CAPOMULIN is: {lowerq}\")\n",
    "print(f\"The upper quartile of CAPOMULIN is: {upperq}\")\n",
    "print(f\"The interquartile range of CAPOMULIN is: {iqr}\")\n",
    "print(f\"The the median of CAPOMULIN is: {quartiles[0.5]} \")\n",
    "    # Determine outliers using upper and lower bounds\n",
    "lower_bound = lowerq - (1.5*iqr)\n",
    "upper_bound = upperq + (1.5*iqr)\n",
    "print(f\"Values below {lower_bound} could be outliers.\")\n",
    "print(f\"Values above {upper_bound} could be outliers.\")\n",
    "\n",
    "#QUARTILES FOR RAMICANE\n",
    "quartiles = Ramicane_df.quantile([.25,.5,.75])\n",
    "lowerq = quartiles[0.25]\n",
    "upperq = quartiles[0.75]\n",
    "iqr = upperq-lowerq\n",
    "    # add subset \n",
    "print(f\"The lower quartile of RAMICANE is: {lowerq}\")\n",
    "print(f\"The upper quartile of RAMICANE is: {upperq}\")\n",
    "print(f\"The interquartile range of RAMICANE is: {iqr}\")\n",
    "print(f\"The the median of RAMICANE is: {quartiles[0.5]} \")\n",
    "    # Determine outliers using upper and lower bounds\n",
    "lower_bound = lowerq - (1.5*iqr)\n",
    "upper_bound = upperq + (1.5*iqr)\n",
    "print(f\"Values below {lower_bound} could be outliers.\")\n",
    "print(f\"Values above {upper_bound} could be outliers.\")\n",
    "\n",
    "#QUARTILES FOR INFUBINOL\n",
    "quartiles = Infubinol_df.quantile([.25,.5,.75])\n",
    "lowerq = quartiles[0.25]\n",
    "upperq = quartiles[0.75]\n",
    "iqr = upperq-lowerq\n",
    "    # add subset \n",
    "print(f\"The lower quartile of INFUBINOL is: {lowerq}\")\n",
    "print(f\"The upper quartile of INFUBINOL is: {upperq}\")\n",
    "print(f\"The interquartile range of INFUBINOL is: {iqr}\")\n",
    "print(f\"The the median of INFUBINOL is: {quartiles[0.5]} \")\n",
    "    # Determine outliers using upper and lower bounds\n",
    "lower_bound = lowerq - (1.5*iqr)\n",
    "upper_bound = upperq + (1.5*iqr)\n",
    "print(f\"Values below {lower_bound} could be outliers.\")\n",
    "print(f\"Values above {upper_bound} could be outliers.\")\n",
    "\n",
    "#QUARTILES FOR CEFTAMIN\n",
    "quartiles = Ceftamin_df.quantile([.25,.5,.75])\n",
    "lowerq = quartiles[0.25]\n",
    "upperq = quartiles[0.75]\n",
    "iqr = upperq-lowerq\n",
    "    # add subset \n",
    "print(f\"The lower quartile of CEFTAMIN is: {lowerq}\")\n",
    "print(f\"The upper quartile of CEFTAMIN is: {upperq}\")\n",
    "print(f\"The interquartile range of CEFTAMIN is: {iqr}\")\n",
    "print(f\"The the median of CEFTAMIN is: {quartiles[0.5]} \")\n",
    "    # Determine outliers using upper and lower bounds\n",
    "lower_bound = lowerq - (1.5*iqr)\n",
    "upper_bound = upperq + (1.5*iqr)\n",
    "print(f\"Values below {lower_bound} could be outliers.\")\n",
    "print(f\"Values above {upper_bound} could be outliers.\")"
   ]
  },
  {
   "cell_type": "code",
   "execution_count": null,
   "metadata": {},
   "outputs": [],
   "source": [
    "# Generate a box plot of the final tumor volume of each mouse across four regimens of interest\n"
   ]
  },
  {
   "cell_type": "markdown",
   "metadata": {},
   "source": [
    "## Line and Scatter Plots"
   ]
  },
  {
   "cell_type": "code",
   "execution_count": null,
   "metadata": {},
   "outputs": [],
   "source": [
    "# Generate a line plot of tumor volume vs. time point for a mouse treated with Capomulin\n"
   ]
  },
  {
   "cell_type": "code",
   "execution_count": null,
   "metadata": {},
   "outputs": [],
   "source": [
    "# Generate a scatter plot of average tumor volume vs. mouse weight for the Capomulin regimen\n"
   ]
  },
  {
   "cell_type": "markdown",
   "metadata": {},
   "source": [
    "## Correlation and Regression"
   ]
  },
  {
   "cell_type": "code",
   "execution_count": null,
   "metadata": {},
   "outputs": [],
   "source": [
    "# Calculate the correlation coefficient and linear regression model \n",
    "# for mouse weight and average tumor volume for the Capomulin regimen\n"
   ]
  },
  {
   "cell_type": "code",
   "execution_count": null,
   "metadata": {},
   "outputs": [],
   "source": [
    "\n",
    "MinTimepoints_grp = four_drugs_df.groupby(\"Mouse ID\").Timepoint.min()\n",
    "MaxTimepoints_grp = four_drugs_df.groupby(\"Mouse ID\").Timepoint.max()\n",
    "Mouse_min_tumorsize = four_drugs_df.groupby(\"Mouse ID\")[\"Tumor Volume (mm3)\"].min()\n",
    "Mouse_max_tumorsize= four_drugs_df.groupby(\"Mouse ID\")['Tumor Volume (mm3)'].max()\n",
    "Time_min_tumorgrp = four_drugs_df.groupby(\"Timepoint\")['Mouse ID'].count()\n",
    "Time_max_tumorgrp = four_drugs_df.groupby(\"Timepoint\")['Mouse ID'].count()\n",
    "#df2 = [MinTimepoints_grp, MaxTimepoints_grp, Mouse_min_tumorsize, Mouse_max_tumorsize]\n",
    "\n",
    "\n",
    "result = [f(x) for x in df['col']]\n",
    "# Iterating over two columns, use `zip`\n",
    "result = [f(x, y) for x, y in zip(df['col1'], df['col2'])]\n",
    "# Iterating over multiple columns - same data type\n",
    "result = [f(row[0], ..., row[n]) for row in df[['col1', ...,'coln']].to_numpy()]\n",
    "# Iterating over multiple columns - differing data type\n",
    "result = [f(row[0], ..., row[n]) for row in zip(df['col1'], ..., df['coln'])]\n",
    "\n",
    "#MinMaxTimepoints_df = pd.concat(df2, axis=1)\n",
    "#Time_max_tumorgrp\n",
    "#MinMaxTimepoints_df\n",
    "\n",
    "\n",
    "for index, row in four_drugs_df.iterrows():\n",
    "\n",
    "    # get restaurant type from df\n",
    "    restr_type = row['ethnicity']\n",
    "\n",
    "    # add keyword to params dict\n",
    "    params['keyword'] = restr_type\n",
    "\n",
    "    # assemble url and make API request\n",
    "    print(f\"Retrieving Results for Index {index}: {restr_type}.\")\n",
    "    response = requests.get(base_url, params=params).json()\n",
    "    #print('\\n', 'response is of datatype ', type(response), '\\n')\n",
    "    \n",
    "    # extract results\n",
    "    results = response['results']\n",
    "    \n",
    "    try:\n",
    "        print(f\"Closest {restr_type} restaurant is {results[0]['name']}.\")\n",
    "        \n",
    "        types_df.loc[index, 'name'] = results[0]['name']\n",
    "        types_df.loc[index, 'address'] = results[0]['vicinity']\n",
    "        types_df.loc[index, 'price_level'] = results[0]['price_level']\n",
    "        types_df.loc[index, 'rating'] = results[0]['rating']\n",
    "        \n",
    "    except (KeyError, IndexError):\n",
    "        print(\"Missing field/result... skipping.\")\n",
    "        \n",
    "    print(\"------------\")\n",
    "    \n",
    "    \n",
    "    \n",
    "    \n",
    "    \n",
    "    for i in search_mice['Timepoint'][0:]:\n",
    "    if i == 0:\n",
    "        mouse = row['Mouse ID']\n",
    "        vol = row['Tumor Volume (mm3)']\n",
    "        \n",
    "        mouseid['keyword'] = mouse\n",
    "        tumorVol['keyword'] = vol\n",
    "    \n",
    "    elif i != p:\n",
    "        mouse = row['Mouse ID']\n",
    "        vol = row['Tumor Volume (mm3)']\n",
    "        \n",
    "        mouseid['keyword'] = mouse\n",
    "        tumorVol['keyword'] = vol\n",
    "    else:\n",
    "        pass\n",
    "\n",
    "    \n",
    "    \n",
    "    MinTimepoints = []\n",
    "l = times[0]\n",
    "for j in times[1:]:\n",
    "    if j == l:\n",
    "        for k in tumorzize\n",
    "            MinTimepoints.append(k)\n",
    "    elif:\n",
    "        MinTimepoints.append(i)\n",
    "        x = i\n",
    "j = times[0]\n",
    "MaxTimepoints = []\n",
    "    \n",
    "    \n",
    "    \n",
    "    \n",
    "    \n",
    "\n",
    "\n",
    "times = four_drugs_df[\"Timepoint\"]\n",
    "tumorsize = four_drugs_df[\"Tumor Volume (mm3)\"]\n",
    "\n",
    "MinTimepoints = []\n",
    "l = times[0]\n",
    "for j in times[1:]:\n",
    "    if j == l:\n",
    "        for k in tumorzize\n",
    "            MinTimepoints.append(k)\n",
    "    elif:\n",
    "        MinTimepoints.append(i)\n",
    "        x = i\n",
    "j = times[0]\n",
    "MaxTimepoints = []\n",
    "    \n",
    "    \n",
    "    \n",
    "    \n",
    "    else:\n",
    "        p = search_mice['Mouse ID'][0]\n",
    "        y = [p]\n",
    "        for i in search_mice:\n",
    "            if ['Mouse ID'] != p:\n",
    "            mouse = ['Mouse ID']\n",
    "            vol = ['Tumor Volume (mm3)'] \n",
    "            mouseid.append(mouse)\n",
    "            tumorVol.append(vol)\n",
    "            p = i\n",
    "    \n",
    "    \n",
    "    \n",
    "#print(time_bymouse)\n",
    "#greatest_timepoint = timepoint_max.describe()\n",
    "\n"
   ]
  },
  {
   "cell_type": "code",
   "execution_count": null,
   "metadata": {},
   "outputs": [],
   "source": []
  }
 ],
 "metadata": {
  "anaconda-cloud": {},
  "kernelspec": {
   "display_name": "Python 3",
   "language": "python",
   "name": "python3"
  },
  "language_info": {
   "codemirror_mode": {
    "name": "ipython",
    "version": 3
   },
   "file_extension": ".py",
   "mimetype": "text/x-python",
   "name": "python",
   "nbconvert_exporter": "python",
   "pygments_lexer": "ipython3",
   "version": "3.8.3"
  }
 },
 "nbformat": 4,
 "nbformat_minor": 4
}
